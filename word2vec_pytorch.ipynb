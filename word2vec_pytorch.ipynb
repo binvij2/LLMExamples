{
 "cells": [
  {
   "cell_type": "code",
   "execution_count": 1,
   "id": "38fec8a0",
   "metadata": {},
   "outputs": [
    {
     "name": "stderr",
     "output_type": "stream",
     "text": [
      "/Users/user/source/python/llm/hugging-face-transformers/.venv/lib/python3.10/site-packages/tqdm/auto.py:21: TqdmWarning: IProgress not found. Please update jupyter and ipywidgets. See https://ipywidgets.readthedocs.io/en/stable/user_install.html\n",
      "  from .autonotebook import tqdm as notebook_tqdm\n"
     ]
    }
   ],
   "source": [
    "from torchtext.vocab import build_vocab_from_iterator\n",
    "from torchtext.data import get_tokenizer \n",
    "from torch.utils.data import DataLoader\n",
    "from tqdm import tqdm\n",
    "\n",
    "import torch\n",
    "import torch.nn as nn "
   ]
  },
  {
   "cell_type": "code",
   "execution_count": 2,
   "id": "e952f6e7",
   "metadata": {},
   "outputs": [],
   "source": [
    "tokenizer = get_tokenizer(\"basic_english\")"
   ]
  },
  {
   "cell_type": "code",
   "execution_count": 3,
   "id": "01418028",
   "metadata": {},
   "outputs": [],
   "source": [
    "toy_data = \"\"\"I wish I was little bit taller\n",
    "I wish I was a baller\n",
    "She wore a small black dress to the party\n",
    "The dog chased a big red ball in the park\n",
    "He had a huge smile on his face when he won the race\n",
    "The tiny kitten played with a fluffy toy mouse\n",
    "The team celebrated their victory with a grand parade\n",
    "She bought a small, delicate necklace for her sister\n",
    "The mountain peak stood majestic and tall against the clear blue sky\n",
    "The toddler took small, careful steps as she learned to walk\n",
    "The house had a spacious backyard with a big swimming pool\n",
    "He felt a sense of accomplishment after completing the challenging puzzle\n",
    "The chef prepared a delicious, flavorful dish using fresh ingredients\n",
    "The children played happily in the small, cozy room\n",
    "The book had an enormous impact on readers around the world\n",
    "The wind blew gently, rustling the leaves of the tall trees\n",
    "She painted a beautiful, intricate design on the small canvas\n",
    "The concert hall was filled with thousands of excited fans\n",
    "The garden was adorned with colorful flowers of all sizes\n",
    "I hope to achieve great success in my chosen career path\n",
    "The skyscraper towered above the city, casting a long shadow\n",
    "He gazed in awe at the breathtaking view from the mountaintop\n",
    "The artist created a stunning masterpiece with bold brushstrokes\n",
    "The baby took her first steps, a small milestone that brought joy to her parents\n",
    "The team put in a tremendous amount of effort to win the championship\n",
    "The sun set behind the horizon, painting the sky in vibrant colors\n",
    "The professor gave a fascinating lecture on the history of ancient civilizations\n",
    "The house was filled with laughter and the sound of children playing\n",
    "She received a warm, enthusiastic welcome from the audience\n",
    "The marathon runner had incredible endurance and determination\n",
    "The child's eyes sparkled with excitement upon opening the gift\n",
    "The ship sailed across the vast ocean, guided by the stars\n",
    "The company achieved remarkable growth in a short period of time\n",
    "The team worked together harmoniously to complete the project\n",
    "The puppy wagged its tail, expressing its happiness and affection\n",
    "She wore a stunning gown that made her feel like a princess\n",
    "The building had a grand entrance with towering columns\n",
    "The concert was a roaring success, with the crowd cheering and clapping\n",
    "The baby took a tiny bite of the sweet, juicy fruit\n",
    "The athlete broke a new record, achieving a significant milestone in her career\n",
    "The sculpture was a masterpiece of intricate details and craftsmanship\n",
    "The forest was filled with towering trees, creating a sense of serenity\n",
    "The children built a small sandcastle on the beach, their imaginations running wild\n",
    "The mountain range stretched as far as the eye could see, majestic and awe-inspiring\n",
    "The artist's brush glided smoothly across the canvas, creating a beautiful painting\n",
    "She received a small token of appreciation for her hard work and dedication\n",
    "The orchestra played a magnificent symphony that moved the audience to tears\n",
    "The flower bloomed in vibrant colors, attracting butterflies and bees\n",
    "The team celebrated their victory with a big, extravagant party\n",
    "The child's laughter echoed through the small room, filling it with joy\n",
    "The sunflower stood tall, reaching for the sky with its bright yellow petals\n",
    "The city skyline was dominated by tall buildings and skyscrapers\n",
    "The cake was adorned with a beautiful, elaborate design for the special occasion\n",
    "The storm brought heavy rain and strong winds, causing widespread damage\n",
    "The small boat sailed peacefully on the calm, glassy lake\n",
    "The artist used bold strokes of color to create a striking and vivid painting\n",
    "The couple shared a passionate kiss under the starry night sky\n",
    "The mountain climber reached the summit after a long and arduous journey\n",
    "The child's eyes widened in amazement as the magician performed his tricks\n",
    "The garden was filled with the sweet fragrance of blooming flowers\n",
    "The basketball player made a big jump and scored a spectacular slam dunk\n",
    "The cat pounced on a small mouse, displaying its hunting instincts\n",
    "The mansion had a grand entrance with a sweeping staircase and chandeliers\n",
    "The raindrops fell gently, creating a rhythmic patter on the roof\n",
    "The baby took a big step forward, encouraged by her parents' applause\n",
    "The actor delivered a powerful and emotional performance on stage\n",
    "The butterfly fluttered its delicate wings, mesmerizing those who watched\n",
    "The company launched a small-scale advertising campaign to test the market\n",
    "The building was constructed with strong, sturdy materials to withstand earthquakes\n",
    "The singer's voice was powerful and resonated throughout the concert hall\n",
    "The child built a massive sandcastle with towers, moats, and bridges\n",
    "The garden was teeming with a variety of small insects and buzzing bees\n",
    "The athlete's muscles were well-developed and strong from years of training\n",
    "The sun cast long shadows as it set behind the mountains\n",
    "The couple exchanged heartfelt vows in a beautiful, intimate ceremony\n",
    "The dog wagged its tail vigorously, a sign of excitement and happiness\n",
    "The baby let out a tiny giggle, bringing joy to everyone around\"\"\"\n"
   ]
  },
  {
   "cell_type": "code",
   "execution_count": 4,
   "id": "ed53bfc1",
   "metadata": {},
   "outputs": [],
   "source": [
    "def tokenize_data(sentences):\n",
    "    for sentence in sentences:\n",
    "        yield tokenizer(sentence)\n"
   ]
  },
  {
   "cell_type": "code",
   "execution_count": 5,
   "id": "b3c82dfc",
   "metadata": {},
   "outputs": [],
   "source": [
    "tokenized_toy_data = tokenizer(toy_data)"
   ]
  },
  {
   "cell_type": "code",
   "execution_count": 6,
   "id": "f1b0798a",
   "metadata": {},
   "outputs": [
    {
     "data": {
      "text/plain": [
       "list"
      ]
     },
     "execution_count": 6,
     "metadata": {},
     "output_type": "execute_result"
    }
   ],
   "source": [
    "type(tokenized_toy_data)"
   ]
  },
  {
   "cell_type": "code",
   "execution_count": 7,
   "id": "2929677d",
   "metadata": {},
   "outputs": [
    {
     "name": "stdout",
     "output_type": "stream",
     "text": [
      "i\n",
      "wish\n",
      "i\n",
      "was\n",
      "little\n",
      "bit\n",
      "taller\n",
      "i\n",
      "wish\n",
      "i\n",
      "was\n"
     ]
    }
   ],
   "source": [
    "for i, t in enumerate(tokenized_toy_data):\n",
    "    print(t)\n",
    "    if i == 10:\n",
    "        break"
   ]
  },
  {
   "cell_type": "code",
   "execution_count": 8,
   "id": "e13ee304",
   "metadata": {},
   "outputs": [],
   "source": [
    "vocab = build_vocab_from_iterator(tokenize_data(tokenized_toy_data), specials=['<unk>'])\n",
    "vocab.set_default_index(vocab[\"<unk>\"])\n"
   ]
  },
  {
   "cell_type": "code",
   "execution_count": 9,
   "id": "88226879",
   "metadata": {},
   "outputs": [
    {
     "data": {
      "text/plain": [
       "{'yellow': 426,\n",
       " 'work': 422,\n",
       " 'won': 421,\n",
       " 'withstand': 420,\n",
       " 'win': 416,\n",
       " 'wild': 415,\n",
       " 'widespread': 414,\n",
       " 'widened': 413,\n",
       " 'who': 412,\n",
       " 'when': 411,\n",
       " 'well-developed': 409,\n",
       " 'warm': 406,\n",
       " 'vigorously': 401,\n",
       " 'view': 400,\n",
       " 'variety': 398,\n",
       " 'using': 397,\n",
       " 'adorned': 49,\n",
       " 'used': 396,\n",
       " 'under': 394,\n",
       " 'far': 217,\n",
       " 'tricks': 393,\n",
       " 'upon': 395,\n",
       " 'bite': 137,\n",
       " 'training': 391,\n",
       " 'affection': 117,\n",
       " 'toy': 390,\n",
       " 'campaign': 159,\n",
       " 'towers': 389,\n",
       " 'glided': 238,\n",
       " 'token': 387,\n",
       " 'together': 386,\n",
       " 'toddler': 385,\n",
       " 'throughout': 383,\n",
       " 'columns': 179,\n",
       " 'through': 382,\n",
       " 'actor': 115,\n",
       " 'teeming': 378,\n",
       " 'tears': 377,\n",
       " 'taller': 376,\n",
       " 'fragrance': 230,\n",
       " 'symphony': 375,\n",
       " 'swimming': 374,\n",
       " 'mountaintop': 283,\n",
       " 'thousands': 381,\n",
       " 'sweeping': 373,\n",
       " 'tremendous': 392,\n",
       " 'summit': 371,\n",
       " 'sturdy': 370,\n",
       " 'stretched': 367,\n",
       " 'step': 365,\n",
       " 'stars': 364,\n",
       " 'starry': 363,\n",
       " 'staircase': 362,\n",
       " 'special': 359,\n",
       " 'cozy': 184,\n",
       " 'smoothly': 355,\n",
       " 'smile': 354,\n",
       " 'small-scale': 353,\n",
       " 'stage': 361,\n",
       " 'constructed': 182,\n",
       " 'skyscrapers': 351,\n",
       " 'sister': 347,\n",
       " 'significant': 345,\n",
       " 'slam': 352,\n",
       " 'sign': 344,\n",
       " 'princess': 312,\n",
       " 'short': 343,\n",
       " 'scored': 335,\n",
       " 'rustling': 334,\n",
       " 'sun': 100,\n",
       " 'runner': 332,\n",
       " 'extravagant': 213,\n",
       " 'roaring': 330,\n",
       " 'felt': 221,\n",
       " 'remarkable': 327,\n",
       " 'fluttered': 227,\n",
       " 'project': 314,\n",
       " 'see': 337,\n",
       " 'mansion': 275,\n",
       " 'race': 318,\n",
       " 'skyscraper': 350,\n",
       " 'puzzle': 317,\n",
       " 'fluffy': 226,\n",
       " 'moved': 284,\n",
       " 'puppy': 315,\n",
       " 'prepared': 311,\n",
       " 'dominated': 197,\n",
       " 'striking': 368,\n",
       " 'was': 7,\n",
       " 'pounced': 310,\n",
       " 'reaching': 323,\n",
       " 'player': 307,\n",
       " 'vows': 404,\n",
       " 'ship': 342,\n",
       " 'petals': 306,\n",
       " 'performed': 304,\n",
       " 'bloomed': 140,\n",
       " 'peacefully': 301,\n",
       " 'exchanged': 210,\n",
       " 'path': 299,\n",
       " 'park': 297,\n",
       " 'patter': 300,\n",
       " 'painted': 295,\n",
       " 'history': 248,\n",
       " 'parade': 296,\n",
       " 'giggle': 236,\n",
       " 'out': 294,\n",
       " 'opening': 292,\n",
       " 'resonated': 328,\n",
       " 'night': 289,\n",
       " 'range': 321,\n",
       " 'magnificent': 274,\n",
       " 'muscles': 285,\n",
       " 'mountains': 282,\n",
       " 'impact': 254,\n",
       " 'mesmerizing': 280,\n",
       " 'market': 277,\n",
       " 'skyline': 349,\n",
       " 'towered': 388,\n",
       " 'marathon': 276,\n",
       " 'growth': 241,\n",
       " 'brushstrokes': 152,\n",
       " 'magician': 273,\n",
       " 'strokes': 369,\n",
       " 'period': 305,\n",
       " 'let': 270,\n",
       " 'leaves': 268,\n",
       " 'reached': 322,\n",
       " 'sound': 356,\n",
       " 'learned': 267,\n",
       " 'playing': 308,\n",
       " 'attracting': 128,\n",
       " 'lecture': 269,\n",
       " 'complete': 180,\n",
       " 'lake': 265,\n",
       " 'kitten': 264,\n",
       " 'gift': 235,\n",
       " 'kiss': 263,\n",
       " 'juicy': 261,\n",
       " 'insects': 257,\n",
       " 'blooming': 141,\n",
       " 'ingredients': 256,\n",
       " 'jump': 262,\n",
       " 'hunting': 252,\n",
       " 'huge': 251,\n",
       " 'bright': 148,\n",
       " 'heartfelt': 246,\n",
       " 'harmoniously': 245,\n",
       " 'moats': 281,\n",
       " 'performance': 303,\n",
       " 'happily': 243,\n",
       " 'filling': 222,\n",
       " 'guided': 242,\n",
       " 'gown': 239,\n",
       " 'glassy': 237,\n",
       " 'shared': 341,\n",
       " 'gazed': 234,\n",
       " 'tall': 28,\n",
       " 'fruit': 232,\n",
       " 'fresh': 231,\n",
       " 'forward': 229,\n",
       " 'flower': 225,\n",
       " 'fell': 220,\n",
       " 'ocean': 291,\n",
       " 'black': 138,\n",
       " 'incredible': 255,\n",
       " 'grand': 38,\n",
       " 'fascinating': 218,\n",
       " 'flavorful': 224,\n",
       " 'worked': 423,\n",
       " 'painting': 42,\n",
       " 'fans': 216,\n",
       " 'face': 215,\n",
       " 'rhythmic': 329,\n",
       " 'great': 240,\n",
       " 'brush': 151,\n",
       " 'careful': 160,\n",
       " 'expressing': 212,\n",
       " 'everyone': 209,\n",
       " 'chef': 171,\n",
       " 'enthusiastic': 208,\n",
       " 'enormous': 207,\n",
       " 'emotional': 204,\n",
       " 'elaborate': 203,\n",
       " 'dunk': 199,\n",
       " 'dress': 198,\n",
       " 'like': 271,\n",
       " 'hope': 249,\n",
       " 'long': 40,\n",
       " 'dish': 195,\n",
       " 'stood': 97,\n",
       " 'delivered': 192,\n",
       " 'tail': 102,\n",
       " 'couple': 66,\n",
       " 'created': 187,\n",
       " 'delicious': 191,\n",
       " 'wings': 419,\n",
       " 'sunflower': 372,\n",
       " 'achieve': 112,\n",
       " 'vivid': 402,\n",
       " 'dedication': 190,\n",
       " 'crowd': 188,\n",
       " 'completing': 181,\n",
       " 'little': 272,\n",
       " 'at': 127,\n",
       " 'could': 183,\n",
       " 'bit': 136,\n",
       " 'readers': 324,\n",
       " 'ancient': 123,\n",
       " 'color': 177,\n",
       " 'instincts': 258,\n",
       " 'heavy': 247,\n",
       " 'stunning': 98,\n",
       " 'clapping': 174,\n",
       " 'shadows': 340,\n",
       " 'eyes': 72,\n",
       " 'cheering': 170,\n",
       " 'chased': 169,\n",
       " 'challenging': 166,\n",
       " 'details': 193,\n",
       " 'ceremony': 165,\n",
       " 'cast': 161,\n",
       " 'calm': 158,\n",
       " 'had': 15,\n",
       " 'determination': 194,\n",
       " 'buzzing': 156,\n",
       " 'vast': 399,\n",
       " 'time': 384,\n",
       " 'butterfly': 155,\n",
       " 'welcome': 408,\n",
       " 'imaginations': 253,\n",
       " 'buildings': 153,\n",
       " 'winds': 418,\n",
       " 'breathtaking': 146,\n",
       " 'world': 424,\n",
       " 'creating': 35,\n",
       " 'sculpture': 336,\n",
       " 'in': 9,\n",
       " 'launched': 266,\n",
       " 'blue': 142,\n",
       " 'horizon': 250,\n",
       " 'displaying': 196,\n",
       " 'wish': 108,\n",
       " 'all': 119,\n",
       " 'voice': 403,\n",
       " 'across': 48,\n",
       " 'city': 63,\n",
       " 'beach': 135,\n",
       " 'dog': 69,\n",
       " 'basketball': 134,\n",
       " 'effort': 202,\n",
       " 'baller': 133,\n",
       " 'awe-inspiring': 130,\n",
       " 'sweet': 101,\n",
       " 'took': 30,\n",
       " 'passionate': 298,\n",
       " 'necklace': 287,\n",
       " 'awe': 129,\n",
       " 'intricate': 79,\n",
       " 'professor': 313,\n",
       " 'new': 288,\n",
       " 'arduous': 126,\n",
       " 'storm': 366,\n",
       " 'casting': 162,\n",
       " 'spacious': 357,\n",
       " 'bought': 145,\n",
       " 'entrance': 70,\n",
       " 'trees': 104,\n",
       " 'appreciation': 125,\n",
       " 'backyard': 131,\n",
       " 'an': 122,\n",
       " 'my': 286,\n",
       " \"'\": 12,\n",
       " 'beautiful': 22,\n",
       " 'test': 379,\n",
       " 'amount': 121,\n",
       " 'career': 61,\n",
       " 'roof': 331,\n",
       " 'against': 118,\n",
       " 'advertising': 116,\n",
       " 'championship': 167,\n",
       " 'cake': 157,\n",
       " 'clear': 175,\n",
       " 'echoed': 201,\n",
       " 'earthquakes': 200,\n",
       " 'wore': 109,\n",
       " 'brought': 57,\n",
       " 'his': 77,\n",
       " 'wagged': 107,\n",
       " 'running': 333,\n",
       " 'pool': 309,\n",
       " '<unk>': 0,\n",
       " 'vibrant': 105,\n",
       " 'boat': 143,\n",
       " 'serenity': 338,\n",
       " 'success': 99,\n",
       " 'journey': 260,\n",
       " 'company': 65,\n",
       " 'damage': 189,\n",
       " 'wind': 417,\n",
       " 'encouraged': 205,\n",
       " 'steps': 96,\n",
       " ',': 3,\n",
       " 'set': 95,\n",
       " 'i': 20,\n",
       " 'blew': 139,\n",
       " 'sizes': 348,\n",
       " 'massive': 278,\n",
       " 'of': 6,\n",
       " 'sailed': 92,\n",
       " 'mountain': 41,\n",
       " 'and': 4,\n",
       " 'on': 11,\n",
       " 'received': 90,\n",
       " 'were': 410,\n",
       " 'feel': 219,\n",
       " 'towering': 103,\n",
       " 'powerful': 89,\n",
       " 'made': 82,\n",
       " 'civilizations': 173,\n",
       " 'party': 88,\n",
       " 'walk': 405,\n",
       " 'parents': 87,\n",
       " 'peak': 302,\n",
       " 'mouse': 86,\n",
       " 'milestone': 85,\n",
       " 'athlete': 52,\n",
       " 'those': 380,\n",
       " 'put': 316,\n",
       " 'hard': 244,\n",
       " 'the': 1,\n",
       " 'masterpiece': 84,\n",
       " 'house': 78,\n",
       " 'above': 110,\n",
       " 'cat': 163,\n",
       " 'gently': 74,\n",
       " 'red': 326,\n",
       " 'sense': 94,\n",
       " 'forest': 228,\n",
       " 'excitement': 71,\n",
       " 'small': 8,\n",
       " 'delicate': 67,\n",
       " 'their': 46,\n",
       " 'chosen': 172,\n",
       " 'it': 80,\n",
       " 'chandeliers': 168,\n",
       " 'celebrated': 62,\n",
       " 'as': 18,\n",
       " 'tiny': 47,\n",
       " 'for': 25,\n",
       " 'eye': 214,\n",
       " 'colors': 64,\n",
       " 'bold': 56,\n",
       " 'artist': 31,\n",
       " 'building': 58,\n",
       " 'majestic': 83,\n",
       " 'its': 16,\n",
       " 'filled': 24,\n",
       " 'achieved': 113,\n",
       " 'behind': 55,\n",
       " 'materials': 279,\n",
       " 'happiness': 76,\n",
       " 'record': 325,\n",
       " 'around': 51,\n",
       " 'sparkled': 358,\n",
       " 'colorful': 178,\n",
       " 's': 17,\n",
       " 'design': 68,\n",
       " 'strong': 44,\n",
       " 'achieving': 114,\n",
       " 'that': 45,\n",
       " 'played': 43,\n",
       " 'flowers': 73,\n",
       " 'accomplishment': 111,\n",
       " 'built': 59,\n",
       " 'bees': 54,\n",
       " 'garden': 37,\n",
       " 'causing': 164,\n",
       " 'laughter': 81,\n",
       " 'years': 425,\n",
       " 'butterflies': 154,\n",
       " 'raindrops': 320,\n",
       " 'joy': 39,\n",
       " 'by': 32,\n",
       " 'book': 144,\n",
       " 'occasion': 290,\n",
       " 'hall': 75,\n",
       " 'a': 2,\n",
       " 'craftsmanship': 185,\n",
       " 'sandcastle': 93,\n",
       " 'children': 33,\n",
       " 'canvas': 60,\n",
       " 'he': 26,\n",
       " 'create': 186,\n",
       " 'rain': 319,\n",
       " 'baby': 21,\n",
       " 'team': 29,\n",
       " 'sky': 27,\n",
       " 'victory': 106,\n",
       " 'shadow': 339,\n",
       " 'audience': 53,\n",
       " 'endurance': 206,\n",
       " 'big': 19,\n",
       " 'bringing': 149,\n",
       " 'orchestra': 293,\n",
       " 'gave': 233,\n",
       " 'excited': 211,\n",
       " 'from': 36,\n",
       " 'room': 91,\n",
       " 'watched': 407,\n",
       " 'bridges': 147,\n",
       " 'her': 13,\n",
       " 'ball': 132,\n",
       " 'after': 50,\n",
       " 'spectacular': 360,\n",
       " 'applause': 124,\n",
       " 'singer': 346,\n",
       " 'broke': 150,\n",
       " 'intimate': 259,\n",
       " 'she': 14,\n",
       " 'to': 10,\n",
       " 'with': 5,\n",
       " 'concert': 34,\n",
       " 'first': 223,\n",
       " 'climber': 176,\n",
       " 'child': 23,\n",
       " 'amazement': 120}"
      ]
     },
     "execution_count": 9,
     "metadata": {},
     "output_type": "execute_result"
    }
   ],
   "source": [
    "vocab.get_stoi()"
   ]
  },
  {
   "cell_type": "code",
   "execution_count": 10,
   "id": "204e40b1",
   "metadata": {},
   "outputs": [
    {
     "data": {
      "text/plain": [
       "['i', 'wish', 'i', 'was', 'a', 'baller']"
      ]
     },
     "execution_count": 10,
     "metadata": {},
     "output_type": "execute_result"
    }
   ],
   "source": [
    "# Test\n",
    "sample_sentence = \"I wish I was a baller\"\n",
    "tokenized_sample = tokenizer(sample_sentence)\n",
    "tokenized_sample"
   ]
  },
  {
   "cell_type": "code",
   "execution_count": 11,
   "id": "079c0b33",
   "metadata": {},
   "outputs": [
    {
     "name": "stdout",
     "output_type": "stream",
     "text": [
      "Encoded sample: [20, 108, 20, 7, 2, 133]\n"
     ]
    }
   ],
   "source": [
    "encoded_sample = [vocab[token] for token in tokenized_sample]\n",
    "print(\"Encoded sample:\", encoded_sample)"
   ]
  },
  {
   "cell_type": "code",
   "execution_count": 12,
   "id": "3edcfc41",
   "metadata": {},
   "outputs": [
    {
     "name": "stdout",
     "output_type": "stream",
     "text": [
      "unknown token in the vocab:0\n",
      "type:<class 'int'>\n",
      "special character in the vocab for unknown token=<unk>\n"
     ]
    }
   ],
   "source": [
    "print(f\"unknown token in the vocab:{vocab['lamdba']}\") # doesn't exist in the vocab\n",
    "print(f\"type:{type((vocab['lambda']))}\")\n",
    "print(f\"special character in the vocab for unknown token={vocab.lookup_token(vocab['lambda'])}\")"
   ]
  },
  {
   "cell_type": "code",
   "execution_count": 13,
   "id": "c9d20d42",
   "metadata": {},
   "outputs": [
    {
     "name": "stdout",
     "output_type": "stream",
     "text": [
      "894\n"
     ]
    }
   ],
   "source": [
    "print(len(tokenized_toy_data))"
   ]
  },
  {
   "cell_type": "code",
   "execution_count": 14,
   "id": "244a9847",
   "metadata": {},
   "outputs": [],
   "source": [
    "CONTEXT_SIZE = 2\n",
    "cobow_data = []\n",
    "# modified code\n",
    "tokenized_data_len = len(tokenized_toy_data)\n",
    "for i in range(CONTEXT_SIZE, tokenized_data_len - CONTEXT_SIZE):\n",
    "    context = (\n",
    "        [tokenized_toy_data [i - CONTEXT_SIZE + j] for j in range(CONTEXT_SIZE)]\n",
    "        + [tokenized_toy_data [i + j + 1] for j in range(CONTEXT_SIZE)]\n",
    "    )\n",
    "\n",
    "    target = tokenized_toy_data [i]\n",
    "    cobow_data.append((context, target))\n",
    "    "
   ]
  },
  {
   "cell_type": "code",
   "execution_count": 15,
   "id": "5cd64a42",
   "metadata": {},
   "outputs": [
    {
     "data": {
      "text/plain": [
       "(['i', 'was', 'bit', 'taller'], 'little')"
      ]
     },
     "execution_count": 15,
     "metadata": {},
     "output_type": "execute_result"
    }
   ],
   "source": [
    "cobow_data[2]"
   ]
  },
  {
   "cell_type": "code",
   "execution_count": 16,
   "id": "528a184f",
   "metadata": {},
   "outputs": [
    {
     "data": {
      "text/plain": [
       "890"
      ]
     },
     "execution_count": 16,
     "metadata": {},
     "output_type": "execute_result"
    }
   ],
   "source": [
    "len(cobow_data)"
   ]
  },
  {
   "cell_type": "code",
   "execution_count": 17,
   "id": "af2004c3",
   "metadata": {},
   "outputs": [
    {
     "data": {
      "text/plain": [
       "(['happiness', 'the', 'let', 'out'], 'baby')"
      ]
     },
     "execution_count": 17,
     "metadata": {},
     "output_type": "execute_result"
    }
   ],
   "source": [
    "cobow_data[880]"
   ]
  },
  {
   "cell_type": "code",
   "execution_count": 18,
   "id": "7e3cb02c",
   "metadata": {},
   "outputs": [],
   "source": [
    "text_pipeline = lambda tokens:[ vocab[token]  for token in tokens]\n",
    "device = torch.device(\"cuda\" if torch.cuda.is_available() else \"cpu\")\n",
    "\n",
    "def collate_batch(batch):\n",
    "    target_list, context_list, offsets = [], [], [0]\n",
    "    for _context, _target in batch:\n",
    "        target_list.append(vocab[_target])  \n",
    "        processed_context = torch.tensor(text_pipeline(_context), dtype=torch.int64)\n",
    "        context_list.append(processed_context)\n",
    "        offsets.append(processed_context.size(0))\n",
    "    target_list = torch.tensor(target_list, dtype=torch.int64)\n",
    "    offsets = torch.tensor(offsets[:-1]).cumsum(dim=0)\n",
    "    context_list = torch.cat(context_list)\n",
    "    return target_list.to(device), context_list.to(device), offsets.to(device)"
   ]
  },
  {
   "cell_type": "code",
   "execution_count": 19,
   "id": "1565c6aa",
   "metadata": {},
   "outputs": [
    {
     "name": "stdout",
     "output_type": "stream",
     "text": [
      "\n",
      "target_list(Tokenized target words): tensor([ 20,   7, 272, 136, 376,  20, 108,  20,   7,   2]),        \n",
      "context_list(Surrounding context words): tensor([ 20, 108,   7, 272, 108,  20, 272, 136,  20,   7, 136, 376,   7, 272,\n",
      "        376,  20, 272, 136,  20, 108, 136, 376, 108,  20, 376,  20,  20,   7,\n",
      "         20, 108,   7,   2, 108,  20,   2, 133,  20,   7, 133,  14]),         \n",
      "offsets(Starting indexes of context words for each target): tensor([ 0,  4,  8, 12, 16, 20, 24, 28, 32, 36]) \n"
     ]
    }
   ],
   "source": [
    "target_list, context_list, offsets=collate_batch(cobow_data[0:10])\n",
    "print(f\"\\ntarget_list(Tokenized target words): {target_list}, \\\n",
    "       \\ncontext_list(Surrounding context words): {context_list}, \\\n",
    "        \\noffsets(Starting indexes of context words for each target): {offsets} \")\n"
   ]
  },
  {
   "cell_type": "code",
   "execution_count": 20,
   "id": "c8355b05",
   "metadata": {},
   "outputs": [
    {
     "name": "stdout",
     "output_type": "stream",
     "text": [
      "<torch.utils.data.dataloader.DataLoader object at 0x1034b48e0>\n"
     ]
    }
   ],
   "source": [
    "BATCH_SIZE = 64\n",
    "dataloader_cbow = DataLoader(\n",
    "    cobow_data, batch_size=BATCH_SIZE, shuffle=True,collate_fn=collate_batch\n",
    ")\n",
    "print(dataloader_cbow)"
   ]
  },
  {
   "cell_type": "code",
   "execution_count": 21,
   "id": "10ac6e89",
   "metadata": {},
   "outputs": [],
   "source": [
    "\"\"\"The CBOW model shown here starts with an EmbeddingBag layer, \n",
    "which takes a variable-length list of context word indices and produces an \n",
    "averaged embedding of size embed_dim. \n",
    "This embedding is then passed through a linear layer that reduces its dimension \n",
    "to ```embed_dim/2```. After applying a ReLU activation, the output is processed \n",
    "by another linear layer, transforming it to match the vocabulary size, \n",
    "thus allowing the model to predict the probability of any word from the vocabulary \n",
    "as the target word. The overall flow moves from contextual words' indices \n",
    "to predicting the central word in the Continuous Bag of Words approach.\n",
    "\"\"\"\n",
    "class CBOW(nn.Module):\n",
    "    # Intialize CBOW model \n",
    "    def __init__(self, vocab_size, embed_dim):\n",
    "        super(CBOW, self).__init__()\n",
    "        # Define the embedding layer using nn.EmbeddingBag \n",
    "        # It outputs the average of context word embeddings\n",
    "        self.embedding = nn.EmbeddingBag( \\\n",
    "            num_embeddings=vocab_size, embedding_dim=embed_dim, sparse=False)\n",
    "        # Define the first linear layer with input size embed_dim \n",
    "        # and output size embed_dim/2\n",
    "        self.linear1 = nn.Linear(in_features=embed_dim, out_features=embed_dim//2)\n",
    "        # Define the fully connected layer with inpyt size embed_dim//2 and output size vocab size\n",
    "        self.fc = nn.Linear(in_features=embed_dim//2, out_features=vocab_size)\n",
    "\n",
    "        self.init_weights()\n",
    "\n",
    "    # Initialize the weights of the model's parameters\n",
    "    def init_weights(self):\n",
    "        # Initialize the weights of the embedding layer\n",
    "        initrange = 0.5\n",
    "        self.embedding.weight.data.uniform_(-initrange, initrange)\n",
    "        # Initialize the weights of the fully connected layer\n",
    "        self.fc.weight.data.uniform_(-initrange, initrange)\n",
    "        # Initialize the biases of the fully connected layer to zeros\n",
    "        self.fc.bias.data.zero_()\n",
    "    \n",
    "    def forward(self, text, offsets):\n",
    "        # Pass the input text and offsets through the embedding layer\n",
    "        out = self.embedding(text, offsets)\n",
    "        # Apply the ReLU activation function to the output of the first linear layer\n",
    "        out = torch.relu(self.linear1(out))\n",
    "        # Pass the output of the ReLU activation through the fully connected layer\n",
    "        return self.fc(out)\n"
   ]
  },
  {
   "cell_type": "code",
   "execution_count": 22,
   "id": "57c8fc42",
   "metadata": {},
   "outputs": [],
   "source": [
    "vocab_size = len(vocab)\n",
    "emsize = 24\n",
    "model_cbow = CBOW(vocab_size, emsize).to(device)"
   ]
  },
  {
   "cell_type": "code",
   "execution_count": 23,
   "id": "dc7ce47b",
   "metadata": {},
   "outputs": [],
   "source": [
    "LR = 5  # learning rate\n",
    "\n",
    "# Define the CrossEntropyLoss criterion. It is commonly used for multi-class classification tasks.\n",
    "# This criterion combines the softmax function and the negative log-likelihood loss.\n",
    "criterion = torch.nn.CrossEntropyLoss()\n",
    "\n",
    "# Define the optimizer using stochastic gradient descent (SGD).\n",
    "# It optimizes the parameters of the model_cbow, which are obtained by model_cbow.parameters().\n",
    "# The learning rate (lr) determines the step size for parameter updates during optimization.\n",
    "optimizer = torch.optim.SGD(model_cbow.parameters(), lr=LR)\n",
    "\n",
    "# Define a learning rate scheduler.\n",
    "# The StepLR scheduler adjusts the learning rate during training.\n",
    "# It multiplies the learning rate by gamma every step_size epochs (here, 1.0).\n",
    "scheduler = torch.optim.lr_scheduler.StepLR(optimizer, 1.0, gamma=0.1)\n"
   ]
  },
  {
   "cell_type": "code",
   "execution_count": 24,
   "id": "0846f741",
   "metadata": {},
   "outputs": [],
   "source": [
    "def train_model(model, dataloader, criterion, optimizer, num_epochs=1000):\n",
    "    \"\"\"\n",
    "    Train the model for the specified number of epochs.\n",
    "    \n",
    "    Args:\n",
    "        model: The PyTorch model to be trained.\n",
    "        dataloader: DataLoader providing data for training.\n",
    "        criterion: Loss function.\n",
    "        optimizer: Optimizer for updating model's weights.\n",
    "        num_epochs: Number of epochs to train the model for.\n",
    "\n",
    "    Returns:\n",
    "        model: The trained model.\n",
    "        epoch_losses: List of average losses for each epoch.\n",
    "    \"\"\"\n",
    "    \n",
    "    # List to store running loss for each epoch\n",
    "    epoch_losses = []\n",
    "\n",
    "    for epoch in tqdm(range(num_epochs)):\n",
    "        # Storing running loss values for the current epoch\n",
    "        running_loss = 0.0\n",
    "\n",
    "        # Using tqdm for a progress bar\n",
    "        for idx, samples in enumerate(dataloader):\n",
    "\n",
    "            optimizer.zero_grad()\n",
    "            \n",
    "            # Check for EmbeddingBag layer in the model\n",
    "            if any(isinstance(module, nn.EmbeddingBag) for _, module in model.named_modules()):\n",
    "                target, context, offsets = samples\n",
    "                predicted = model(context, offsets)\n",
    "            \n",
    "            # Check for Embedding layer in the model\n",
    "            elif any(isinstance(module, nn.Embedding) for _, module in model.named_modules()):\n",
    "                target, context = samples\n",
    "                predicted = model(context)\n",
    "                \n",
    "            loss = criterion(predicted, target)\n",
    "            loss.backward()\n",
    "            torch.nn.utils.clip_grad_norm_(model.parameters(), 0.1)\n",
    "            optimizer.step()\n",
    "            running_loss += loss.item()\n",
    "\n",
    "        # Append average loss for the epoch\n",
    "        epoch_losses.append(running_loss / len(dataloader))\n",
    "    \n",
    "    return model, epoch_losses"
   ]
  },
  {
   "cell_type": "code",
   "execution_count": 25,
   "id": "b6cdeaae",
   "metadata": {},
   "outputs": [
    {
     "name": "stderr",
     "output_type": "stream",
     "text": [
      "100%|██████████| 300/300 [00:14<00:00, 20.92it/s]\n"
     ]
    }
   ],
   "source": [
    "model_cbow, epoch_losses=train_model(model=model_cbow, \\\n",
    "                                     dataloader=dataloader_cbow, \\\n",
    "                                    criterion=criterion, \\\n",
    "                                    optimizer=optimizer, \\\n",
    "                                    num_epochs=300)"
   ]
  },
  {
   "cell_type": "code",
   "execution_count": 26,
   "id": "6e5924b3",
   "metadata": {},
   "outputs": [],
   "source": [
    "import matplotlib.pyplot as plt \n"
   ]
  },
  {
   "cell_type": "code",
   "execution_count": 27,
   "id": "4dbe5f01",
   "metadata": {},
   "outputs": [
    {
     "data": {
      "text/plain": [
       "Text(0.5, 0, 'epochs')"
      ]
     },
     "execution_count": 27,
     "metadata": {},
     "output_type": "execute_result"
    },
    {
     "data": {
      "image/png": "[encoded data removed]",
      "text/plain": [
       "<Figure size 640x480 with 1 Axes>"
      ]
     },
     "metadata": {},
     "output_type": "display_data"
    }
   ],
   "source": [
    "plt.plot(epoch_losses)\n",
    "plt.xlabel(\"epochs\")\n"
   ]
  },
  {
   "cell_type": "code",
   "execution_count": 28,
   "id": "7db14576",
   "metadata": {},
   "outputs": [],
   "source": [
    "from sklearn.manifold import TSNE\n",
    "\n",
    "def plot_embeddings(word_embeddings, vocab=vocab):\n",
    "    tsne = TSNE(n_components=2, random_state=0)\n",
    "    word_embeddings_2d = tsne.fit_transform(word_embeddings)\n",
    "\n",
    "    # plot the results with labels from vocab\n",
    "    plt.figure(figsize=(15,15))\n",
    "    for i, word in enumerate(vocab.get_itos()):\n",
    "        plt.scatter(word_embeddings_2d[i,0], word_embeddings_2d[i,1])\n",
    "        plt.annotate(word, word_embeddings_2d[i,0], word_embeddings_2d[i,1])\n",
    "    \n",
    "    plt.xlabel(\"t-SNE component 1\")\n",
    "    plt.ylabel(\"t-SNE component 2\")\n",
    "    plt.title(\"Word embedding visualized with TSNE\")\n",
    "    plt.show()\n",
    "\n"
   ]
  }
 ],
 "metadata": {
  "kernelspec": {
   "display_name": ".venv",
   "language": "python",
   "name": "python3"
  },
  "language_info": {
   "codemirror_mode": {
    "name": "ipython",
    "version": 3
   },
   "file_extension": ".py",
   "mimetype": "text/x-python",
   "name": "python",
   "nbconvert_exporter": "python",
   "pygments_lexer": "ipython3",
   "version": "3.10.18"
  }
 },
 "nbformat": 4,
 "nbformat_minor": 5
}
